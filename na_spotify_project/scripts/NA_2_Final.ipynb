{
  "nbformat": 4,
  "nbformat_minor": 0,
  "metadata": {
    "colab": {
      "name": "NA #2 - Final.ipynb",
      "provenance": [],
      "collapsed_sections": []
    },
    "kernelspec": {
      "name": "python3",
      "display_name": "Python 3"
    },
    "accelerator": "GPU"
  },
  "cells": [
    {
      "cell_type": "code",
      "metadata": {
        "id": "ks4F8x2A1_Rz",
        "colab_type": "code",
        "colab": {}
      },
      "source": [
        "import networkx as nx\n",
        "import matplotlib.pyplot as plt\n",
        "import numpy as np"
      ],
      "execution_count": 0,
      "outputs": []
    },
    {
      "cell_type": "code",
      "metadata": {
        "id": "neTzca9m2eWG",
        "colab_type": "code",
        "colab": {}
      },
      "source": [
        "G = nx.read_gpickle('spotify_data.pickle')"
      ],
      "execution_count": 0,
      "outputs": []
    },
    {
      "cell_type": "code",
      "metadata": {
        "id": "Qs2z1GvbxmWk",
        "colab_type": "code",
        "colab": {}
      },
      "source": [
        "F = nx.read_gpickle('spotify_data.pickle')"
      ],
      "execution_count": 0,
      "outputs": []
    },
    {
      "cell_type": "code",
      "metadata": {
        "id": "f4ZUou33SVCf",
        "colab_type": "code",
        "outputId": "94a0522b-0ab0-42db-d9d1-97f3644d018e",
        "colab": {
          "base_uri": "https://localhost:8080/",
          "height": 34
        }
      },
      "source": [
        "len(G.nodes())"
      ],
      "execution_count": 32,
      "outputs": [
        {
          "output_type": "execute_result",
          "data": {
            "text/plain": [
              "8447"
            ]
          },
          "metadata": {
            "tags": []
          },
          "execution_count": 32
        }
      ]
    },
    {
      "cell_type": "code",
      "metadata": {
        "id": "sxlFEdT7AKS3",
        "colab_type": "code",
        "colab": {}
      },
      "source": [
        "# Count number of artist that share a genre.\n",
        "\n",
        "genres_ = ['house', 'pop', 'hip hop', 'rap', 'classical', 'rock', 'tech', 'indie', 'edm', 'step', 'elec']\n",
        "remove_nodes = set()\n",
        "\n",
        "temp_dict = {}\n",
        "\n",
        "for node in G.nodes(data = True):\n",
        "    try:\n",
        "        if len(node[1]['genres']) > 0 and G.degree(node[0]) > 1:\n",
        "            for c in genres_:\n",
        "                for d in node[1]['genres']:\n",
        "                    if c in d:\n",
        "                        if c not in temp_dict.keys():\n",
        "                            temp_dict[c] = 1   \n",
        "                        else:\n",
        "                            temp_dict[c] += 1\n",
        "        else:\n",
        "            remove_nodes.add(node[0])\n",
        "        \n",
        "        if len(temp_dict) == 0:\n",
        "            remove_nodes.add(node[0])\n",
        "        \n",
        "        node[1]['genres'] = sorted(temp_dict.items(), key=lambda x:x[1], reverse = True)[0][0] \n",
        "\n",
        "        temp_dict = {}\n",
        "\n",
        "    except:\n",
        "        remove_nodes.add(node[0])"
      ],
      "execution_count": 0,
      "outputs": []
    },
    {
      "cell_type": "code",
      "metadata": {
        "id": "-_xfOM080IDi",
        "colab_type": "code",
        "colab": {}
      },
      "source": [
        "# Count number of artist that share a genre.\n",
        "\n",
        "# genres_ = ['house', 'pop', 'hip hop', 'rap', 'classical', 'rock', 'tech', 'indie', 'metal', 'edm', 'step', 'jazz', 'elec']\n",
        "# remove_nodes = set()\n",
        "# count_dup = 0\n",
        "# count_list = []\n",
        "# temp_dict = {}\n",
        "\n",
        "# for node in G.nodes(data = True):\n",
        "#     try:\n",
        "#         if len(node[1]['genres']) > 0 and G.degree(node[0]) > 1:\n",
        "#             for c in genres_:\n",
        "#                 for d in node[1]['genres']:\n",
        "#                     if c in d:\n",
        "#                         if c not in temp_dict.keys():\n",
        "#                             temp_dict[c] = 1   \n",
        "#                         else:\n",
        "#                             temp_dict[c] += 1\n",
        "#             None\n",
        "#         else:\n",
        "#             remove_nodes.add(node[0])\n",
        "        \n",
        "#         if len(temp_dict) == 0:\n",
        "#             remove_nodes.add(node[0])\n",
        "\n",
        "#         node[1]['genres'] = temp_dict\n",
        "        \n",
        "# #         Now we will try and count those with multiple genres of the same weight.\n",
        "        \n",
        "#         for key, value in temp_dict.items():\n",
        "#             count_list.append(int(value))\n",
        "        \n",
        "#         count_list.sort()\n",
        "#         if len(count_list) > 1:\n",
        "#             if count_list[0] == count_list[1]:\n",
        "#                 count_dup += 1\n",
        "\n",
        "#         temp_dict = {}\n",
        "#         count_list = []\n",
        "\n",
        "#     except:\n",
        "#         remove_nodes.add(node[0])"
      ],
      "execution_count": 0,
      "outputs": []
    },
    {
      "cell_type": "code",
      "metadata": {
        "id": "WPIUy4YUMVkT",
        "colab_type": "code",
        "colab": {}
      },
      "source": [
        "#Remove low nodes and count genres.\n",
        "\n",
        "# Count number of artist that share a genre.\n",
        "\n",
        "# remove_nodes = set()\n",
        "\n",
        "# for count, node in enumerate(G.nodes(data = True)):\n",
        "#     try:\n",
        "#         if len(node[1]['genres']) > 0 and G.degree(node[0]) > 1:\n",
        "#             nx.set_node_attributes(G, len(node[1]['genres']), 'count')\n",
        "#         else:\n",
        "#             remove_nodes.add(node[0])\n",
        "#     except:\n",
        "#         remove_nodes.add(node[0])"
      ],
      "execution_count": 0,
      "outputs": []
    },
    {
      "cell_type": "code",
      "metadata": {
        "id": "fGWQgUmf6KGp",
        "colab_type": "code",
        "colab": {}
      },
      "source": [
        "#Multi genre code.\n",
        "\n",
        "# genres_ = ['house', 'pop', 'hip hop', 'rap', 'classical', 'rock', 'tech', 'indie', 'metal', 'edm', 'step', 'jazz', 'elec']\n",
        "# temp_set = set()\n",
        "# remove_nodes = set()\n",
        "\n",
        "# for node in G.nodes(data = True):\n",
        "#     try:\n",
        "#         if len(node[1]['genres']) > 0 and G.degree(node[0]) > 1:\n",
        "#             for c in genres_:\n",
        "#                 for d in node[1]['genres']:\n",
        "#                     if c in d:\n",
        "#                         temp_set.add(c)\n",
        "#         else:\n",
        "#             remove_nodes.add(node[0])\n",
        "        \n",
        "#         if len(temp_set) == 0:\n",
        "#             remove_nodes.add(node[0])\n",
        "                \n",
        "#         node[1]['genres'] = temp_set\n",
        "#         temp_set = set()\n",
        "\n",
        "#     except:\n",
        "#         remove_nodes.add(node[0])"
      ],
      "execution_count": 0,
      "outputs": []
    },
    {
      "cell_type": "code",
      "metadata": {
        "id": "y9f3E2miIL7r",
        "colab_type": "code",
        "colab": {}
      },
      "source": [
        "#Remove nodes\n",
        "\n",
        "for r in remove_nodes:\n",
        "    G.remove_node(r)"
      ],
      "execution_count": 0,
      "outputs": []
    },
    {
      "cell_type": "code",
      "metadata": {
        "id": "OCzSO8-b6TAe",
        "colab_type": "code",
        "colab": {}
      },
      "source": [
        "#Creates a dictionary of the amount of artist with a unique overlapping genre.\n",
        "\n",
        "# genre_combo = {}\n",
        "\n",
        "# for node in G.nodes(data = True):\n",
        "#     if len(node[1]['genres']) > 1:\n",
        "#         if str(node[1]['genres']) not in genre_combo.keys():\n",
        "#             genre_combo[str(node[1]['genres'])] = 1\n",
        "#         else:\n",
        "#             genre_combo[str(node[1]['genres'])] += 1"
      ],
      "execution_count": 0,
      "outputs": []
    },
    {
      "cell_type": "code",
      "metadata": {
        "id": "am0rOCZI7Xhn",
        "colab_type": "code",
        "colab": {}
      },
      "source": [
        "#counts the amount of artist with overlapping genres.\n",
        "\n",
        "# count = 0\n",
        "\n",
        "# for key, value in genre_combo.items():\n",
        "#     count += int(value)"
      ],
      "execution_count": 0,
      "outputs": []
    },
    {
      "cell_type": "code",
      "metadata": {
        "id": "VdJDy4gbXZ2U",
        "colab_type": "code",
        "colab": {}
      },
      "source": [
        "#Count of genres\n",
        "\n",
        "genres_count = {'house':0, 'pop':0, 'hip hop':0, 'rap':0, 'classical':0, 'rock':0, 'tech':0, 'indie':0, 'metal':0, 'edm':0, 'step':0, 'jazz':0, 'elec':0}\n",
        "for d in G.nodes(data =True):\n",
        "    genres_count[d[1]['genres']] += 1"
      ],
      "execution_count": 0,
      "outputs": []
    },
    {
      "cell_type": "code",
      "metadata": {
        "id": "K653GGPnYGGF",
        "colab_type": "code",
        "outputId": "c5e78016-8e82-4d48-dd5c-5cc429ca84e8",
        "colab": {
          "base_uri": "https://localhost:8080/",
          "height": 315
        }
      },
      "source": [
        "genres_count_sorted = sorted(genres_count.items(), key = lambda x:x[0])\n",
        "\n",
        "plt.style.use('ggplot')\n",
        "plt.xticks(rotation='vertical')\n",
        "plt.title('Genre count')\n",
        "label_ = []\n",
        "\n",
        "for j in genres_count_sorted:\n",
        "    plt.bar(j[0], height = j[1])\n",
        "    label_.append(j[1])\n",
        "    \n",
        "# plt.legend(label_)\n",
        " "
      ],
      "execution_count": 95,
      "outputs": [
        {
          "output_type": "display_data",
          "data": {
            "image/png": "[encoded data removed]",
            "text/plain": [
              "<Figure size 432x288 with 1 Axes>"
            ]
          },
          "metadata": {
            "tags": []
          }
        }
      ]
    },
    {
      "cell_type": "code",
      "metadata": {
        "id": "DHw3-wqfcMSL",
        "colab_type": "code",
        "colab": {}
      },
      "source": [
        "def plt_sorted(nx_list, number = 20, title = 'Title', hue = 'blue'):\n",
        "    names = []\n",
        "    values = []\n",
        "    for g in nx_list[:number]:\n",
        "        names.append(F.nodes[g[0]]['name'])\n",
        "        values.append(float(g[1]))\n",
        "        \n",
        "    plt.bar(names, height = values, color = hue)\n",
        "    plt.xticks(rotation='vertical')\n",
        "    plt.title(title)\n",
        "    return plt.show()  "
      ],
      "execution_count": 0,
      "outputs": []
    },
    {
      "cell_type": "code",
      "metadata": {
        "id": "vnm8eyQgHihL",
        "colab_type": "code",
        "colab": {}
      },
      "source": [
        "G_degree = nx.degree_centrality(G)\n",
        "G_degree_sorted = sorted(G_degree.items(), key=lambda x:x[1], reverse = True) "
      ],
      "execution_count": 0,
      "outputs": []
    },
    {
      "cell_type": "code",
      "metadata": {
        "id": "AXSvvAuJIoVo",
        "colab_type": "code",
        "colab": {}
      },
      "source": [
        "G_closeness = nx.closeness_centrality(G)\n",
        "G_closeness_sorted = sorted(G_closeness.items(), key=lambda x:x[1], reverse = True) "
      ],
      "execution_count": 0,
      "outputs": []
    },
    {
      "cell_type": "code",
      "metadata": {
        "id": "CqdkSYIHVGEf",
        "colab_type": "code",
        "colab": {}
      },
      "source": [
        "G_betweennes = nx.betweenness_centrality(G)\n",
        "G_betweennes_sorted = sorted(G_betweennes.items(), key=lambda x:x[1], reverse = True) "
      ],
      "execution_count": 0,
      "outputs": []
    },
    {
      "cell_type": "code",
      "metadata": {
        "id": "rCH0TYfveBxq",
        "colab_type": "code",
        "outputId": "709175aa-211a-418f-9c3f-a9921042ae6a",
        "colab": {
          "base_uri": "https://localhost:8080/",
          "height": 392
        }
      },
      "source": [
        "plt_sorted(G_degree_sorted, 30, 'Degree centrality')"
      ],
      "execution_count": 0,
      "outputs": [
        {
          "output_type": "display_data",
          "data": {
            "image/png": "[encoded data removed]",
            "text/plain": [
              "<Figure size 432x288 with 1 Axes>"
            ]
          },
          "metadata": {
            "tags": []
          }
        }
      ]
    },
    {
      "cell_type": "code",
      "metadata": {
        "id": "qzz1eNhnebxV",
        "colab_type": "code",
        "outputId": "d506e2c2-9f64-4b9a-a23d-6acc3f179b6c",
        "colab": {
          "base_uri": "https://localhost:8080/",
          "height": 400
        }
      },
      "source": [
        "plt_sorted(G_closeness_sorted, 30, 'Closeness centrality', 'red')"
      ],
      "execution_count": 0,
      "outputs": [
        {
          "output_type": "display_data",
          "data": {
            "image/png": "[encoded data removed]",
            "text/plain": [
              "<Figure size 432x288 with 1 Axes>"
            ]
          },
          "metadata": {
            "tags": []
          }
        }
      ]
    },
    {
      "cell_type": "code",
      "metadata": {
        "id": "khwjzODqecDB",
        "colab_type": "code",
        "outputId": "731eafde-c042-40cb-d156-627390f54136",
        "colab": {
          "base_uri": "https://localhost:8080/",
          "height": 391
        }
      },
      "source": [
        "plt_sorted(G_betweennes_sorted, 30, 'Betweenness centrality', 'green')"
      ],
      "execution_count": 0,
      "outputs": [
        {
          "output_type": "display_data",
          "data": {
            "image/png": "[encoded data removed]",
            "text/plain": [
              "<Figure size 432x288 with 1 Axes>"
            ]
          },
          "metadata": {
            "tags": []
          }
        }
      ]
    },
    {
      "cell_type": "markdown",
      "metadata": {
        "id": "fvg7uQBDq4Pf",
        "colab_type": "text"
      },
      "source": [
        "Full graph"
      ]
    },
    {
      "cell_type": "code",
      "metadata": {
        "id": "ql1DYAIfq7BQ",
        "colab_type": "code",
        "colab": {}
      },
      "source": [
        "# F_degree = nx.degree_centrality(F)\n",
        "# F_degree_sorted = sorted(F_degree.items(), key=lambda x:x[1], reverse = True) "
      ],
      "execution_count": 0,
      "outputs": []
    },
    {
      "cell_type": "code",
      "metadata": {
        "id": "CYmhffFlq9Ir",
        "colab_type": "code",
        "colab": {}
      },
      "source": [
        "# F_closeness = nx.closeness_centrality(F)\n",
        "# F_closeness_sorted = sorted(F_closeness.items(), key=lambda x:x[1], reverse = True) "
      ],
      "execution_count": 0,
      "outputs": []
    },
    {
      "cell_type": "code",
      "metadata": {
        "id": "KlXLaz5rq9Py",
        "colab_type": "code",
        "colab": {}
      },
      "source": [
        "# F_betweennes = nx.betweenness_centrality(F)\n",
        "# F_betweennes_sorted = sorted(F_betweennes.items(), key=lambda x:x[1], reverse = True) "
      ],
      "execution_count": 0,
      "outputs": []
    },
    {
      "cell_type": "markdown",
      "metadata": {
        "id": "hEWBolMqPJfn",
        "colab_type": "text"
      },
      "source": [
        "# Plot populariy vs a centrality measuraes."
      ]
    },
    {
      "cell_type": "code",
      "metadata": {
        "id": "IChsZmhGQvRv",
        "colab_type": "code",
        "colab": {}
      },
      "source": [
        "genres = ['house', 'pop', 'hip hop', 'rap', 'classical', 'rock', 'tech', 'indie', 'edm', 'step', 'elec']"
      ],
      "execution_count": 0,
      "outputs": []
    },
    {
      "cell_type": "code",
      "metadata": {
        "id": "a8TeBXZDQX67",
        "colab_type": "code",
        "colab": {}
      },
      "source": [
        "def prune_network(graph_object, min_degree = 1):\n",
        "    \"\"\"\n",
        "    Given graph prunes nodes with less than given degree\n",
        "    \"\"\"\n",
        "    nodes_to_prune = set()\n",
        "    for node in graph_object.nodes(data = True):\n",
        "        this_node_genre = ''\n",
        "        current_genre_dict = dict()\n",
        "        try:\n",
        "            if (graph_object.degree(node[0]) <= min_degree) or len(node[1]['genres']) == 0:\n",
        "                nodes_to_prune.add(node[0])\n",
        "            else:\n",
        "                for genre_in_node in node[1]['genres']:\n",
        "                    for chosen_genre in genres:\n",
        "                        if chosen_genre in genre_in_node:\n",
        "                            current_genre_dict[chosen_genre] = current_genre_dict.get(chosen_genre, 0) + 1\n",
        "                sorted_x = sorted(current_genre_dict.items(), key = lambda kv: kv[1])\n",
        "                if len(sorted_x) > 0:\n",
        "                    node[1]['genres'] = sorted_x[::-1][0][0]\n",
        "                if len(current_genre_dict) == 0:\n",
        "                    nodes_to_prune.add(node[0])\n",
        "        except KeyError:\n",
        "            nodes_to_prune.add(node[0])\n",
        "    \n",
        "    for node in nodes_to_prune:\n",
        "        graph_object.remove_node(node)\n",
        "\n",
        "    # additionally remove all nodes that have zero degree after this pruning\n",
        "    zero_deg_nodes = []\n",
        "    for node in graph_object.nodes():\n",
        "        if graph_object.degree(node) == 0:\n",
        "            zero_deg_nodes.append(node)\n",
        "\n",
        "    for node in zero_deg_nodes:\n",
        "        graph_object.remove_node(node)\n",
        "\n",
        "    return graph_object"
      ],
      "execution_count": 0,
      "outputs": []
    },
    {
      "cell_type": "code",
      "metadata": {
        "id": "pzPA_QmVQi-M",
        "colab_type": "code",
        "colab": {}
      },
      "source": [
        "G = prune_network(G)"
      ],
      "execution_count": 0,
      "outputs": []
    },
    {
      "cell_type": "code",
      "metadata": {
        "id": "8Ce3Z7iwPKXx",
        "colab_type": "code",
        "colab": {}
      },
      "source": [
        "# G_degree = nx.degree_centrality(G)\n",
        "# nx.set_node_attributes(G, G_degree, 'Degree')"
      ],
      "execution_count": 0,
      "outputs": []
    },
    {
      "cell_type": "code",
      "metadata": {
        "id": "Yn14rWK0PZwQ",
        "colab_type": "code",
        "colab": {}
      },
      "source": [
        "# G_closeness = nx.closeness_centrality(G)\n",
        "# nx.set_node_attributes(G, G_degree, 'Closeness')"
      ],
      "execution_count": 0,
      "outputs": []
    },
    {
      "cell_type": "code",
      "metadata": {
        "id": "umKIN1oMPbCW",
        "colab_type": "code",
        "colab": {}
      },
      "source": [
        "# G_betweennes = nx.betweenness_centrality(G)\n",
        "# nx.set_node_attributes(G, G_degree, 'Betweenness')"
      ],
      "execution_count": 0,
      "outputs": []
    },
    {
      "cell_type": "code",
      "metadata": {
        "id": "6Rr0t4XOTicD",
        "colab_type": "code",
        "colab": {}
      },
      "source": [
        "Graph_dict = {}\n",
        "\n",
        "for node_ in G.nodes(data = True):\n",
        "    Graph_dict[node_[1]['name']] = [float(node_[1]['popularity']), float(node_[1]['Degree']), float(node_[1]['Closeness']), float(node_[1]['Betweenness'])]"
      ],
      "execution_count": 0,
      "outputs": []
    },
    {
      "cell_type": "code",
      "metadata": {
        "id": "ERxm1-bOWnEw",
        "colab_type": "code",
        "colab": {}
      },
      "source": [
        "# Graph_dict_sorted = sorted(Graph_dict.items(), key=lambda x:x[1], reverse = True) "
      ],
      "execution_count": 0,
      "outputs": []
    },
    {
      "cell_type": "code",
      "metadata": {
        "id": "TrGKnSwsSDAo",
        "colab_type": "code",
        "outputId": "934ff7b7-8eba-4658-cc12-b7256220af30",
        "colab": {
          "base_uri": "https://localhost:8080/",
          "height": 281
        }
      },
      "source": [
        "for i in range(len(Graph_dict_sorted)):\n",
        "    plt.scatter(Graph_dict_sorted[i][1][0], Graph_dict_sorted[i][1][1])\n",
        "    plt.title('Degree Centrality vs popularity')"
      ],
      "execution_count": 0,
      "outputs": [
        {
          "output_type": "display_data",
          "data": {
            "image/png": "[encoded data removed]",
            "text/plain": [
              "<Figure size 432x288 with 1 Axes>"
            ]
          },
          "metadata": {
            "tags": []
          }
        }
      ]
    },
    {
      "cell_type": "code",
      "metadata": {
        "id": "wrsTzqZ-i0yu",
        "colab_type": "code",
        "outputId": "e84168ad-8f29-4e47-b47c-e97d1ce01f2b",
        "colab": {
          "base_uri": "https://localhost:8080/",
          "height": 281
        }
      },
      "source": [
        "for i in range(len(Graph_dict_sorted)):\n",
        "    plt.scatter(Graph_dict_sorted[i][1][0], Graph_dict_sorted[i][1][3])\n",
        "    plt.title('Degree Centrality vs Betweenness')"
      ],
      "execution_count": 0,
      "outputs": [
        {
          "output_type": "display_data",
          "data": {
            "image/png": "[encoded data removed]",
            "text/plain": [
              "<Figure size 432x288 with 1 Axes>"
            ]
          },
          "metadata": {
            "tags": []
          }
        }
      ]
    },
    {
      "cell_type": "markdown",
      "metadata": {
        "id": "XnwK6K7QZd1B",
        "colab_type": "text"
      },
      "source": [
        "Check correlation"
      ]
    },
    {
      "cell_type": "code",
      "metadata": {
        "id": "gcaqad34Z4q-",
        "colab_type": "code",
        "outputId": "89c63a47-0891-48fb-9de8-3ff3d4348021",
        "colab": {
          "base_uri": "https://localhost:8080/",
          "height": 34
        }
      },
      "source": [
        "#Correlation popularity : degree\n",
        "list1 = [] \n",
        "list2 = []\n",
        "for i in range(len(Graph_dict_sorted)):\n",
        "    list1.append(Graph_dict_sorted[i][1][0])\n",
        "    list2.append(Graph_dict_sorted[i][1][1])\n",
        "\n",
        "np.corrcoef(list1, list2)[0, 1]"
      ],
      "execution_count": 0,
      "outputs": [
        {
          "output_type": "execute_result",
          "data": {
            "text/plain": [
              "0.32609318671267606"
            ]
          },
          "metadata": {
            "tags": []
          },
          "execution_count": 23
        }
      ]
    },
    {
      "cell_type": "code",
      "metadata": {
        "id": "xTF4XUZ6iMAH",
        "colab_type": "code",
        "outputId": "f0557f4c-6712-4a73-f042-15230c5bc46c",
        "colab": {
          "base_uri": "https://localhost:8080/",
          "height": 34
        }
      },
      "source": [
        "#Correlation popularity : Closeness\n",
        "list1 = [] \n",
        "list2 = []\n",
        "for i in range(len(Graph_dict_sorted)):\n",
        "    list1.append(Graph_dict_sorted[i][1][0])\n",
        "    list2.append(Graph_dict_sorted[i][1][2])\n",
        "\n",
        "np.corrcoef(list1, list2)[0, 1]"
      ],
      "execution_count": 0,
      "outputs": [
        {
          "output_type": "execute_result",
          "data": {
            "text/plain": [
              "0.32609318671267606"
            ]
          },
          "metadata": {
            "tags": []
          },
          "execution_count": 24
        }
      ]
    },
    {
      "cell_type": "code",
      "metadata": {
        "id": "bUMkJB0CiXsk",
        "colab_type": "code",
        "outputId": "97301f24-b627-45b9-9aac-bf8a4a703f2c",
        "colab": {
          "base_uri": "https://localhost:8080/",
          "height": 34
        }
      },
      "source": [
        "#Correlation popularity : Betweenness\n",
        "list1 = [] \n",
        "list2 = []\n",
        "for i in range(len(Graph_dict_sorted)):\n",
        "    list1.append(Graph_dict_sorted[i][1][0])\n",
        "    list2.append(Graph_dict_sorted[i][1][3])\n",
        "\n",
        "np.corrcoef(list1, list2)[0, 1]"
      ],
      "execution_count": 0,
      "outputs": [
        {
          "output_type": "execute_result",
          "data": {
            "text/plain": [
              "0.32609318671267606"
            ]
          },
          "metadata": {
            "tags": []
          },
          "execution_count": 25
        }
      ]
    },
    {
      "cell_type": "code",
      "metadata": {
        "id": "MdeVlMJoaJ84",
        "colab_type": "code",
        "colab": {}
      },
      "source": [
        "# nx.write_gpickle(G, 'count_network.pickle')"
      ],
      "execution_count": 0,
      "outputs": []
    },
    {
      "cell_type": "markdown",
      "metadata": {
        "id": "mqIJFDO4qbsD",
        "colab_type": "text"
      },
      "source": [
        "#Community"
      ]
    },
    {
      "cell_type": "code",
      "metadata": {
        "id": "W-3aOJzkj3_M",
        "colab_type": "code",
        "colab": {}
      },
      "source": [
        "import community\n",
        "import networkx as nx\n",
        "from networkx.algorithms import community\n",
        "from networkx.algorithms.community import greedy_modularity_communities\n",
        "from sklearn.metrics.cluster import normalized_mutual_info_score\n",
        "import numpy as np\n",
        "import random"
      ],
      "execution_count": 0,
      "outputs": []
    },
    {
      "cell_type": "code",
      "metadata": {
        "id": "64emaYkLrTTT",
        "colab_type": "code",
        "colab": {}
      },
      "source": [
        "G = nx.read_gpickle('Network_centrality.pickle')"
      ],
      "execution_count": 0,
      "outputs": []
    },
    {
      "cell_type": "code",
      "metadata": {
        "id": "mln_qhpij53l",
        "colab_type": "code",
        "colab": {}
      },
      "source": [
        "genres_ = ['house', 'pop', 'hip hop', 'rap', 'classical', 'rock', 'tech', 'indie', 'metal', 'edm', 'step', 'jazz', 'elec']"
      ],
      "execution_count": 0,
      "outputs": []
    },
    {
      "cell_type": "markdown",
      "metadata": {
        "id": "yq56-CfznvtM",
        "colab_type": "text"
      },
      "source": [
        "#label_propagation_communities"
      ]
    },
    {
      "cell_type": "code",
      "metadata": {
        "id": "PrrcdMGZqetL",
        "colab_type": "code",
        "colab": {}
      },
      "source": [
        "label_propagation = list(community.label_propagation_communities(G))"
      ],
      "execution_count": 0,
      "outputs": []
    },
    {
      "cell_type": "code",
      "metadata": {
        "id": "wQfyGl5IoTmW",
        "colab_type": "code",
        "colab": {}
      },
      "source": [
        "pred_values_label = []\n",
        "\n",
        "for count, i in enumerate(label_propagation):\n",
        "    for a in i:\n",
        "        pred_values_label.append(count)"
      ],
      "execution_count": 0,
      "outputs": []
    },
    {
      "cell_type": "code",
      "metadata": {
        "id": "RwHbTBain36i",
        "colab_type": "code",
        "colab": {}
      },
      "source": [
        "true_value_label = []\n",
        "\n",
        "for count, i in enumerate(label_propagation):\n",
        "    for a in i:\n",
        "        true_value_label.append(genres_.index(G.nodes[a]['genres']))"
      ],
      "execution_count": 0,
      "outputs": []
    },
    {
      "cell_type": "code",
      "metadata": {
        "id": "uwZTUeXptLCH",
        "colab_type": "code",
        "colab": {
          "base_uri": "https://localhost:8080/",
          "height": 51
        },
        "outputId": "0505f102-9b6d-4412-f737-d4e882d3263d"
      },
      "source": [
        "label_propagation[0]"
      ],
      "execution_count": 141,
      "outputs": [
        {
          "output_type": "execute_result",
          "data": {
            "text/plain": [
              "{'spotify:artist:2fVW2ix4ANKiofDZIsy1XR',\n",
              " 'spotify:artist:6SsTlCsuCYleNza6xGwynu'}"
            ]
          },
          "metadata": {
            "tags": []
          },
          "execution_count": 141
        }
      ]
    },
    {
      "cell_type": "code",
      "metadata": {
        "id": "435QjB2NoLiz",
        "colab_type": "code",
        "outputId": "38864035-f42a-4377-a137-4b0333878072",
        "colab": {
          "base_uri": "https://localhost:8080/",
          "height": 34
        }
      },
      "source": [
        "normalized_mutual_info_score(true_value_label, pred_values_label, average_method='arithmetic')"
      ],
      "execution_count": 110,
      "outputs": [
        {
          "output_type": "execute_result",
          "data": {
            "text/plain": [
              "0.35679889097244705"
            ]
          },
          "metadata": {
            "tags": []
          },
          "execution_count": 110
        }
      ]
    },
    {
      "cell_type": "markdown",
      "metadata": {
        "id": "XdfIHNhLne1a",
        "colab_type": "text"
      },
      "source": [
        "#greedy_modularity_communities"
      ]
    },
    {
      "cell_type": "code",
      "metadata": {
        "id": "gtfOY4hFrr0q",
        "colab_type": "code",
        "colab": {}
      },
      "source": [
        "greedy_modularity = list(greedy_modularity_communities(G))"
      ],
      "execution_count": 0,
      "outputs": []
    },
    {
      "cell_type": "code",
      "metadata": {
        "id": "uPVRUzYHgqKF",
        "colab_type": "code",
        "colab": {}
      },
      "source": [
        "pred_values_greedy = []\n",
        "\n",
        "for count, i in enumerate(greedy_modularity):\n",
        "    for a in i:\n",
        "        pred_values_greedy.append(count)"
      ],
      "execution_count": 0,
      "outputs": []
    },
    {
      "cell_type": "code",
      "metadata": {
        "id": "wV0UzzqThH7J",
        "colab_type": "code",
        "colab": {}
      },
      "source": [
        "true_value_greedy = []\n",
        "\n",
        "for count, i in enumerate(greedy_modularity):\n",
        "    for a in i:\n",
        "        true_value_greedy.append(genres_.index(G.nodes[a]['genres']))\n",
        "    "
      ],
      "execution_count": 0,
      "outputs": []
    },
    {
      "cell_type": "code",
      "metadata": {
        "id": "1a9Unb82W84l",
        "colab_type": "code",
        "colab": {
          "base_uri": "https://localhost:8080/",
          "height": 34
        },
        "outputId": "87f251ab-395b-4e4c-95d2-63ee23ebb3bf"
      },
      "source": [
        "len(greedy_modularity)"
      ],
      "execution_count": 154,
      "outputs": [
        {
          "output_type": "execute_result",
          "data": {
            "text/plain": [
              "43"
            ]
          },
          "metadata": {
            "tags": []
          },
          "execution_count": 154
        }
      ]
    },
    {
      "cell_type": "code",
      "metadata": {
        "id": "iKHnSmyPlrEc",
        "colab_type": "code",
        "outputId": "f2335680-9b01-42b2-abbb-0218883d925a",
        "colab": {
          "base_uri": "https://localhost:8080/",
          "height": 34
        }
      },
      "source": [
        "normalized_mutual_info_score(true_value_greedy, pred_values_greedy, average_method='arithmetic')"
      ],
      "execution_count": 115,
      "outputs": [
        {
          "output_type": "execute_result",
          "data": {
            "text/plain": [
              "0.3221593935602934"
            ]
          },
          "metadata": {
            "tags": []
          },
          "execution_count": 115
        }
      ]
    },
    {
      "cell_type": "code",
      "metadata": {
        "id": "1ElRHuRx6JKV",
        "colab_type": "code",
        "colab": {
          "base_uri": "https://localhost:8080/",
          "height": 333
        },
        "outputId": "aba83102-d31e-458e-f869-58724ecd9fcb"
      },
      "source": [
        "# for count, i in enumerate(greedy_modularity):\n",
        "#     print(count)\n",
        "#     plt.hist([G.nodes[a]['genres'] for a in i])\n",
        "#     for a in i:\n",
        "#         plt.hist(G.nodes[a]['genres'])\n",
        "\n",
        "# [2550, 1951, 1220, 902, 408, 374, 246, 223, 135, 54, 48]\n",
        "plt.hist([G.nodes[a]['genres'] for a in greedy_modularity[0]], color = colour_generator())"
      ],
      "execution_count": 139,
      "outputs": [
        {
          "output_type": "execute_result",
          "data": {
            "text/plain": [
              "(array([1138.,  322.,  497.,  297.,   59.,   73.,  119.,   19.,   15.,\n",
              "          11.]),\n",
              " array([ 0. ,  1.2,  2.4,  3.6,  4.8,  6. ,  7.2,  8.4,  9.6, 10.8, 12. ]),\n",
              " <a list of 10 Patch objects>)"
            ]
          },
          "metadata": {
            "tags": []
          },
          "execution_count": 139
        },
        {
          "output_type": "display_data",
          "data": {
            "image/png": "[encoded data removed]",
            "text/plain": [
              "<Figure size 432x288 with 1 Axes>"
            ]
          },
          "metadata": {
            "tags": []
          }
        }
      ]
    },
    {
      "cell_type": "code",
      "metadata": {
        "id": "2eX9SMOztwWD",
        "colab_type": "code",
        "colab": {}
      },
      "source": [
        "# #All scores\n",
        "# popularity_list = []\n",
        "# popularity_comm = dict()\n",
        "\n",
        "# for count, i in enumerate(greedy_modularity):\n",
        "#     for a in i:\n",
        "#         popularity_list.append(G.nodes[a]['popularity'])\n",
        "        \n",
        "#         if count in popularity_comm.keys():\n",
        "#             popularity_comm[count].append(G.nodes[a]['popularity'])\n",
        "#         else:\n",
        "#             popularity_comm[count] = [G.nodes[a]['popularity']]        "
      ],
      "execution_count": 0,
      "outputs": []
    },
    {
      "cell_type": "code",
      "metadata": {
        "id": "V_SsUwChdEaL",
        "colab_type": "code",
        "colab": {}
      },
      "source": [
        "# from matplotlib import pyplot as mp\n",
        "# import numpy as np\n",
        "\n",
        "# legend_list = []\n",
        "\n",
        "# def gaussian(x, mu, sig):\n",
        "#     return np.exp(-np.power(x - mu, 2.) / (2 * np.power(sig, 2.)))\n",
        "\n",
        "\n",
        "# def plot_dis(list_data):\n",
        "    \n",
        "#     list_data.sort()\n",
        "    \n",
        "#     mean = np.mean(list_data)\n",
        "#     sd = np.std(list_data)\n",
        "    \n",
        "#     for mu, sig in [(mean, sd)]:\n",
        "#         mp.plot(list_data, gaussian(list_data, mu, sig))\n",
        "    \n",
        "#     return None\n",
        "\n",
        "# plot_dis(popularity_list)\n",
        "# legend_list.append(len(popularity_list))\n",
        "\n",
        "# for key, value in popularity_comm.items():\n",
        "#     if len(value) > 60:\n",
        "#         plot_dis(value)\n",
        "#         legend_list.append(len(value))\n",
        "        \n",
        "# mp.legend(legend_list) \n",
        "# mp.show()"
      ],
      "execution_count": 0,
      "outputs": []
    },
    {
      "cell_type": "code",
      "metadata": {
        "id": "w2LMA41Nuycl",
        "colab_type": "code",
        "colab": {}
      },
      "source": [
        "# #Plot community clusters. Nodes degree vs popularity and color is the community.\n",
        "# from mpl_toolkits.mplot3d import Axes3D\n",
        "\n",
        "def colour_generator():\n",
        "    return (random.random(), random.random(), random.random())\n",
        "x, y, color_ = [], [], []\n",
        "\n",
        "# for key, value in popularity_comm.items():\n",
        "# #     color_ = colour_generator()\n",
        "# #     mp.scatter(np.median(value), key, color = color_)\n",
        "#     x.append(np.mean(value))\n",
        "#     y.append(len(value))\n",
        "#     color_.append(colour_generator())\n",
        "    \n",
        "# mp.plot(x, y, marker='o', linestyle='--', color = 'r', label='Square')\n",
        "# #     for i in value:\n",
        "# #         if len(value) > 60:\n",
        "# #             mp.scatter(G.nodes[i]['popularity'], G.degree[i],  color = color_)\n",
        "\n",
        "# # ax.set_xlabel('popularity')\n",
        "# # ax.set_ylabel('degree')\n",
        "\n",
        "# mp.show()  "
      ],
      "execution_count": 0,
      "outputs": []
    },
    {
      "cell_type": "code",
      "metadata": {
        "id": "kXakdkEXKk2X",
        "colab_type": "code",
        "colab": {}
      },
      "source": [
        "#Convert genrees to a probability.\n",
        "\n"
      ],
      "execution_count": 0,
      "outputs": []
    },
    {
      "cell_type": "markdown",
      "metadata": {
        "id": "p_sBjMeQpwZV",
        "colab_type": "text"
      },
      "source": [
        "#girvan_newman"
      ]
    },
    {
      "cell_type": "code",
      "metadata": {
        "id": "_Z-uoTNkpx13",
        "colab_type": "code",
        "colab": {}
      },
      "source": [
        "# girvan = community.girvan_newman(G)"
      ],
      "execution_count": 0,
      "outputs": []
    },
    {
      "cell_type": "code",
      "metadata": {
        "colab_type": "code",
        "id": "XXkEEUBIp3SX",
        "colab": {}
      },
      "source": [
        "# pred_values_girvan = []\n",
        "\n",
        "# for count, i in enumerate(girvan):\n",
        "#     for a in i:\n",
        "#         pred_values_girvan.append(count)"
      ],
      "execution_count": 0,
      "outputs": []
    },
    {
      "cell_type": "code",
      "metadata": {
        "colab_type": "code",
        "id": "D9VSYTNyp3Sc",
        "colab": {}
      },
      "source": [
        "# true_value_girvan = []\n",
        "\n",
        "# for count, i in enumerate(girvan):\n",
        "#     for a in i:\n",
        "#         true_value_girvan.append(genres_.index(G.nodes[a]['genres']))\n",
        "    "
      ],
      "execution_count": 0,
      "outputs": []
    },
    {
      "cell_type": "code",
      "metadata": {
        "colab_type": "code",
        "outputId": "dc8ee797-aa14-438f-d2d3-f3c1e7a73439",
        "id": "6e5WjCifp3Se",
        "colab": {
          "base_uri": "https://localhost:8080/",
          "height": 34
        }
      },
      "source": [
        "# normalized_mutual_info_score(true_value_girvan, pred_values_girvan, average_method='arithmetic')"
      ],
      "execution_count": 0,
      "outputs": [
        {
          "output_type": "execute_result",
          "data": {
            "text/plain": [
              "1.0"
            ]
          },
          "metadata": {
            "tags": []
          },
          "execution_count": 19
        }
      ]
    },
    {
      "cell_type": "markdown",
      "metadata": {
        "id": "C9qw2fcPsKW5",
        "colab_type": "text"
      },
      "source": [
        "#kclique"
      ]
    },
    {
      "cell_type": "code",
      "metadata": {
        "id": "uVsNRq6Csrzd",
        "colab_type": "code",
        "colab": {}
      },
      "source": [
        "# k_cli = list(community.k_clique_communities(G, 10))"
      ],
      "execution_count": 0,
      "outputs": []
    },
    {
      "cell_type": "code",
      "metadata": {
        "colab_type": "code",
        "id": "fwpB2aLruGaS",
        "colab": {}
      },
      "source": [
        "# pred_values_k_cli = []\n",
        "\n",
        "# for count, i in enumerate(k_cli):\n",
        "#     for a in i:\n",
        "#         pred_values_k_cli.append(count)"
      ],
      "execution_count": 0,
      "outputs": []
    },
    {
      "cell_type": "code",
      "metadata": {
        "colab_type": "code",
        "id": "jFexjUiGuGaX",
        "colab": {}
      },
      "source": [
        "# true_value_k_cli = []\n",
        "\n",
        "# for count, i in enumerate(k_cli):\n",
        "#     for a in i:\n",
        "#         true_value_k_cli.append(genres_.index(G.nodes[a]['genres']))\n",
        "    "
      ],
      "execution_count": 0,
      "outputs": []
    },
    {
      "cell_type": "code",
      "metadata": {
        "colab_type": "code",
        "id": "YvO8FBQRuGaa",
        "colab": {}
      },
      "source": [
        "# normalized_mutual_info_score(true_value_k_cli, pred_values_k_cli, average_method='arithmetic')"
      ],
      "execution_count": 0,
      "outputs": []
    },
    {
      "cell_type": "code",
      "metadata": {
        "id": "a0JO-MVbr3xZ",
        "colab_type": "code",
        "colab": {}
      },
      "source": [
        "# #Show genres in the communaties. \n",
        "# for counter, i in enumerate(c):\n",
        "#     i = list(i)\n",
        "#     g_dict = dict()\n",
        "\n",
        "#     for a in i:\n",
        "#         n = G.nodes[a]['genres']\n",
        "#         if n in g_dict:\n",
        "#             g_dict[n] += 1\n",
        "#         else:\n",
        "#             g_dict[n] = 1   \n",
        "\n",
        "#     print(counter)\n",
        "#     print(sorted(g_dict.items(), key=lambda kv: kv[1], reverse=True))"
      ],
      "execution_count": 0,
      "outputs": []
    }
  ]
}