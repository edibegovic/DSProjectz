{
 "nbformat": 4,
 "nbformat_minor": 2,
 "metadata": {
  "language_info": {
   "name": "python",
   "codemirror_mode": {
    "name": "ipython",
    "version": 3
   },
   "version": "3.6.8"
  },
  "orig_nbformat": 2,
  "file_extension": ".py",
  "mimetype": "text/x-python",
  "name": "python",
  "npconvert_exporter": "python",
  "pygments_lexer": "ipython3",
  "version": 3
 },
 "cells": [
  {
   "cell_type": "code",
   "execution_count": 48,
   "metadata": {},
   "outputs": [],
   "source": [
    "# import the compulsory\n",
    "import numpy as np\n",
    "import pandas as pd\n",
    "import matplotlib.pyplot as plt\n",
    "import os\n",
    "from scipy import ndimage\n",
    "%matplotlib inline"
   ]
  },
  {
   "cell_type": "code",
   "execution_count": 49,
   "metadata": {},
   "outputs": [],
   "source": [
    "# get files\n",
    "train_input = np.load(os.path.abspath(os.path.curdir) + '/things_we_touch/data/input_train.npy')\n",
    "train_all = np.load(os.path.abspath(os.path.curdir) + '/things_we_touch/data/OG_files/fashion_train.npy')\n",
    "train_labels = np.load(os.path.abspath(os.path.curdir) + '/things_we_touch/data/labels_train.npy')"
   ]
  },
  {
   "cell_type": "code",
   "execution_count": 64,
   "metadata": {},
   "outputs": [
    {
     "data": {
      "text/plain": "(-0.5, 27.5, 27.5, -0.5)"
     },
     "execution_count": 64,
     "metadata": {},
     "output_type": "execute_result"
    },
    {
     "data": {
      "image/png": "[encoded data removed]",
      "image/svg+xml": "<?xml version=\"1.0\" encoding=\"utf-8\" standalone=\"no\"?>\n<!DOCTYPE svg PUBLIC \"-//W3C//DTD SVG 1.1//EN\"\n  \"http://www.w3.org/Graphics/SVG/1.1/DTD/svg11.dtd\">\n<!-- Created with matplotlib (https://matplotlib.org/) -->\n<svg height=\"490.919679pt\" version=\"1.1\" viewBox=\"0 0 684 490.919679\" width=\"684pt\" xmlns=\"http://www.w3.org/2000/svg\" xmlns:xlink=\"http://www.w3.org/1999/xlink\">\n <defs>\n  <style type=\"text/css\">\n*{stroke-linecap:butt;stroke-linejoin:round;}\n  </style>\n </defs>\n <g id=\"figure_1\">\n  <g id=\"patch_1\">\n   <path d=\"M 0 490.919679 \nL 684 490.919679 \nL 684 0 \nL 0 0 \nz\n\" style=\"fill:none;\"/>\n  </g>\n  <g id=\"axes_1\">\n   <g clip-path=\"url(#p01579f87a7)\">\n    <image height=\"197\" id=\"imagef7e44c5573\" transform=\"scale(1 -1)translate(0 -197)\" width=\"197\" x=\"7.2\" xlink:href=\"data:image/png;base64,\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\" y=\"-7.141176\"/>\n   </g>\n  </g>\n  <g id=\"axes_2\">\n   <g clip-path=\"url(#p6c308a491c)\">\n    <image height=\"197\" id=\"image016f4cf384\" transform=\"scale(1 -1)translate(0 -197)\" width=\"197\" x=\"243.529412\" xlink:href=\"data:image/png;base64,\niVBORw0KGgoAAAANSUhEUgAAAMUAAADFCAYAAADkODbwAAAABHNCSVQICAgIfAhkiAAAAq5JREFUeJzt3VFq40AQQMHRsve/svP/2IhEi+weu+oEMubR0FHax1rrsTb3eGz/ET7CcRyvfoQf+fPqB4BpRAEhCghRQIgCQhQQf1/9ALDW+Vr92atckwJCFBCigBAFhCggRAExaiU7aS3H5zIpIEQBIQoIUUCIAkIUEKKAEAWEKCBEASEKCFFAiAJi1Fuy3oT9XJO+e5MCQhQQooAQBYQoIEQBMWole9XZOs9Pf/FbJgWEKCBEASEKCFFAiALiLVay7G/SHWGTAkIUEKKAEAWEKCBEAWEly3jPXteaFBCigBAFhCggRAEhCggrWUZwSxYGEwWEKCBEASEKCFFAiAJCFBCigBAFhCggRAEhCoht3pKddGuU773Dd2FSQIgCQhQQooAQBYQoIEQBIQoIUUCIAkIUEKKAEAWEKCBEASEKCFFAiAJCFBCigNjmcME7/EM8ezApIEQBIQoIUUCIAkIUEKKAGPV3CkeUmcCkgBAFhCggRAEhCghRQIxayVq7MoFJASEKCFFAiAJCFBCigDjWWt+/mrqJs7dr2d+zV/UmBYQoIEQBIQoIUUCIAuKWlawVKRNcXeWaFBCigBAFhCggRAEhCghRQIgCQhQQooAQBYQoIEQBIQoIUUCIAkIUEKKAEAWEKCBG/bwX/NYdd2ZNCghRQIgCQhQQooAQBcQtK9mzNZk7s0xnUkCIAkIUEKKAEAWEKCBEASEKCFFAiAJCFBCigBAFhCggRAEhCghRQIgCQhQQooBwS3aI/7mJ+u7HIO64F3vGpIAQBYQoIEQBIQoIUUDcspI9WxG6M/tvn/zZpzEpIEQBIQoIUUCIAkIUEMdaa4tdoJXl/q6+7Xp1xX+VSQEhCghRQIgCQhQQooDYZiX7bJ++An72sYBJTAoIUUCIAkIUEKKAEAXEFys9PLGt0oA9AAAAAElFTkSuQmCC\" y=\"-7.141176\"/>\n   </g>\n  </g>\n  <g id=\"axes_3\">\n   <g clip-path=\"url(#pb1098f70ce)\">\n    <image height=\"197\" id=\"image66481d23eb\" transform=\"scale(1 -1)translate(0 -197)\" width=\"197\" x=\"479.858824\" xlink:href=\"data:image/png;base64,\niVBORw0KGgoAAAANSUhEUgAAAMUAAADFCAYAAADkODbwAAAABHNCSVQICAgIfAhkiAAAAohJREFUeJzt3UFqw0AQAMFs8P+/rFxyasiCiSWt11UPCAKrGRjCaBzHcXxtbIxx9yN8lB1ep++7HwBWIwoIUUCIAkIUEKKAeNz9AK9g7bqO2W/xLutakwJCFBCigBAFhCggRAEhCghRQIgCQhQQooAQBYQoIEQBIQoIUUCIAkIUEKKAEAWEKCBEASEKCFFAiAJCFBCigNjiluzsRqk7szzLpIAQBYQoIEQBIQoIUUCIAkIUEKKAEAWEKCBEASEKCFFAiAJCFBCigBAFhCggRAEhCghRQIgCQhQQooAQBYQoIEQBIQoIUUCIAkIUEKKAEAXEFp/3Yh2zT629C5MCQhQQooAQBYQoIEQBIQoIUUCIAkIUEKKAEAWEKCBEASEKCFFAiAJCFBCigBAFhCggRAEhCghRQIgCQhQQooAQBYQoIEQBIQoIUUCIAkIUEKKAEAWEKCBEASEKCFFAiAJCFBCPux/gFcYYdz8Cv874LY7jePnfnDEpIEQBIQoIUUCIAkIUEJevZK1PedbsnTljXWtSQIgCQhQQooAQBYQoIE5ZyVq7cpUz1rUmBYQoIEQBIQoIUUCIAkIUEKKAEAWEKCBEASEKCFFAbHFLls/lcAFcQBQQooAQBYQoIEQBccpKdrYmc9SA1ZkUEKKAEAWEKCBEASEKCFFAiAJCFBCigBAFhCggRAEhCghRQIgCQhQQooAQBYQoINySXcR/bqLufgzijHuxMyYFhCggRAEhCghRQIgCYhxX77smdl8t8reFXkOTAkoUEKKAEAWEKCBEAbHUf8n6LNjeVlq7zpgUEKKAEAWEKCBEASEKiKVWsjNXr/M+fQX8LuvTM5gUEKKAEAWEKCBEASEKiB90HzmUvDzQZAAAAABJRU5ErkJggg==\" y=\"-7.141176\"/>\n   </g>\n  </g>\n  <g id=\"axes_4\">\n   <g clip-path=\"url(#p43aa1ffc85)\">\n    <image height=\"223\" id=\"image9e86cdaf51\" transform=\"scale(1 -1)translate(0 -223)\" width=\"223\" x=\"48.190909\" xlink:href=\"data:image/png;base64,\niVBORw0KGgoAAAANSUhEUgAAAN8AAADfCAYAAAB2+QYsAAAABHNCSVQICAgIfAhkiAAAAwVJREFUeJzt3cFtwzAQAMEwUP8tMxXEBCzIa4kzFRCJF/c4UBxzzvkDfNxvfQDYlfggIj6IiA8i4oOI+CAiPogc9QFqY4z6CPzj6Stokw8i4oOI+CAiPoiIDyLig4j4ICI+iIgPIuKDiPggIj6IiA8i4oOI+CAiPoiIDyLig4j4ICI+iIgPIuKDiPggIj6IiA8i4oOI+CAiPoiIDyLig4j4ILL9+3yrN+C838dVTD6IiA8i4oOI+CAiPoiIDyLig4j4ICI+iIgPIuKDiPggIj6IiA8i4oOI+CAiPoiIDyLig4j4ICI+iIgPIuKDiPggIj6IiA8i4oOI+CAiPoiIDyLig4j4ICI+iIgPIuKDiPggIj6IiA8i4oPIUR+Afc056yOkTD6IiA8i4oOI+CAiPoiIDyLig4j4ICI+iIgPIuKDiPggIj6IiA8i4oOI+CAiPoiIDyLig4j4ICI+iIgPIuKDiPggIj6IiA8i4oOI+CAiPoiIDyLig4j4ICI+iIgPIuKDiPggIj6IiA8i4oOI+CAiPoiIDyLig4j4ICI+iIgPIkd9gNoYoz7CtlZ/+znnh07SMPkgIj6IiA8i4oOI+CAiPoiIDyKP3/PZ493X1f+7eo9o8kFEfBARH0TEBxHxQUR8EBEfRPI9nz0clfo+ockHEfFBRHwQER9ExAcR8UFEfBARH0TEBxHxQUR8EBEfRMQHEfFBRHwQye/zQcV3O2FT4oOI+CAiPoiIDyLig4j4IJLv+Va7Ft/15KlMPoiIDyLig4j4ICI+iIgPIuKDiPggIj6IiA8i4oOI+CAiPoiIDyLig0h+n4/3nf3upLuSLZMPIuKDiPggIj6IiA8i4oOI+CBiz/flrnxD7unfTK3f31sx+SAiPoiIDyLig4j4ICI+iIgPImN++zJk4e67qDN2v89385+uyQcV8UFEfBARH0TEBxHxQUR8ELn9nq92913Zlfy0XjP5ICI+iIgPIuKDiPggIj6IiA8ivtt5kl0W7zL5ICI+iIgPIuKDiPggIj6IiA8if41RPcDQkx8EAAAAAElFTkSuQmCC\" y=\"-260.719679\"/>\n   </g>\n  </g>\n  <g id=\"axes_5\">\n   <g clip-path=\"url(#p5ca99bf01d)\">\n    <image height=\"223\" id=\"image7c3b2d2896\" transform=\"scale(1 -1)translate(0 -223)\" width=\"223\" x=\"413.427273\" xlink:href=\"data:image/png;base64,\niVBORw0KGgoAAAANSUhEUgAAAN8AAADfCAYAAAB2+QYsAAAABHNCSVQICAgIfAhkiAAAAv9JREFUeJzt3UFqAkEQQNF08P5XrqyzMAMOnT+j720FaRw/tSi018zM1xtba9VHYJO7f3W/6wPApxIfRMQHEfFBRHwQER9ExAcR8UFEfBARH0TEBxHxQUR8EBEfRMQHEfFBRHwQER9ExAcR8UFEfBARH0TEBxHxQUR8EBEfRMQHEfFBRHwQER9ExAcR8UFEfBARH0TEBxHxQUR8EBEfRMQHkUd9gN1m5s/X11r/dBL4zeSDiPggIj6IiA8i4oOI+CAiPoiIDyLig4j4ICI+iIgPIuKDiPggIj6IiA8i4oOI+CAiPoiIDyLig4j4ICI+iIgPIuKDiPggIj6IiA8i4oOI+CAiPoiIDyLig4j4ICI+iIgPIuKDiPggIj6IPOoDwDMzUx9hK5MPIuKDiPggIj6IiA8i4oOI+CAiPoiIDyLig4j4ICI+iIgPIuKDiPggIj6IiA8i4oOI+CAiPoiIDyLig4j4ICI+iIgPIuKDiPggIj6IiA8i4oOI+CAiPoiIDyLig4j4ICI+iIgPIuKDiPggIj6IiA8i4oOI+CAiPoiIDyLig8ijPsBua636CLxo97Obma3vf8Tkg4j4ICI+iIgPIuKDiPggIj6IbN/z2bNxVWe/m2f3hCYfRMQHEfFBRHwQER9ExAcR8UFEfBARH0TEBxHxQUR8EBEfRMQHEfFBRHwQER9ExAcR8UFEfBARH0TEBxHxQeTt7+eDV+2+v8/kg4j4ICI+iIgPIuKDiPggIj6IbN/zHe1K3N/HpzL5ICI+iIgPIuKDiPggIj6IiA8i4oOI+CAiPoiIDyLig4j4ICI+iIgPIuKDiPggIj6IiA8i4oOI+CAiPoiIDyLu57uxs/fHffp/pu6+f++IyQcR8UFEfBARH0TEBxHxQUR8EMn3fO7ve53P5t5MPoiIDyLig4j4ICI+iIgPIuKDSL7nO2IPyDP17/HOMvkgIj6IiA8i4oOI+CAiPoiIDyKX3/MdqXc99ozP1c/m6kw+iIgPIuKDiPggIj6IiA8i4oPIDwpWL8gV/n4sAAAAAElFTkSuQmCC\" y=\"-260.719679\"/>\n   </g>\n  </g>\n </g>\n <defs>\n  <clipPath id=\"p01579f87a7\">\n   <rect height=\"196.941176\" width=\"196.941176\" x=\"7.2\" y=\"7.2\"/>\n  </clipPath>\n  <clipPath id=\"p6c308a491c\">\n   <rect height=\"196.941176\" width=\"196.941176\" x=\"243.529412\" y=\"7.2\"/>\n  </clipPath>\n  <clipPath id=\"pb1098f70ce\">\n   <rect height=\"196.941176\" width=\"196.941176\" x=\"479.858824\" y=\"7.2\"/>\n  </clipPath>\n  <clipPath id=\"p43aa1ffc85\">\n   <rect height=\"222.381818\" width=\"222.381818\" x=\"48.190909\" y=\"261.337861\"/>\n  </clipPath>\n  <clipPath id=\"p5ca99bf01d\">\n   <rect height=\"222.381818\" width=\"222.381818\" x=\"413.427273\" y=\"261.337861\"/>\n  </clipPath>\n </defs>\n</svg>\n",
      "text/plain": "<Figure size 864x648 with 5 Axes>"
     },
     "metadata": {
      "needs_background": "light"
     },
     "output_type": "display_data"
    }
   ],
   "source": [
    "# experiment with some transformation granted we only need shape not colors\n",
    "picture = train_input[955,:]\n",
    "picture = picture.reshape(28,28)\n",
    "bin_picture = np.zeros((28,28), dtype=np.int8)\n",
    "bin_picture[picture > 0] = 255\n",
    "open_picture = ndimage.binary_opening(bin_picture)\n",
    "eroded_picture = ndimage.binary_erosion(bin_picture)\n",
    "prop_picture = ndimage.binary_propagation(eroded_picture, mask = bin_picture)\n",
    "\n",
    "# plot them next to each other\n",
    "plt.figure(figsize = (12,9))\n",
    "plt.subplot(231)\n",
    "plt.imshow(picture, cmap = plt.cm.gray_r)\n",
    "plt.axis('off')\n",
    "plt.subplot(232)\n",
    "plt.imshow(bin_picture, cmap = plt.cm.gray_r)\n",
    "plt.axis('off')\n",
    "plt.subplot(233)\n",
    "plt.imshow(open_picture, cmap = plt.cm.gray_r)\n",
    "plt.axis('off')\n",
    "plt.subplot(223)\n",
    "plt.imshow(eroded_picture, cmap = plt.cm.gray_r)\n",
    "plt.axis('off')\n",
    "plt.subplot(224)\n",
    "plt.imshow(prop_picture, cmap = plt.cm.gray_r)\n",
    "plt.axis('off')\n",
    "\n",
    "\n",
    "\n"
   ]
  },
  {
   "cell_type": "code",
   "execution_count": 68,
   "metadata": {},
   "outputs": [
    {
     "data": {
      "text/plain": "array([0, 1], dtype=int8)"
     },
     "execution_count": 68,
     "metadata": {},
     "output_type": "execute_result"
    }
   ],
   "source": [
    "np.unique(dilated_array)"
   ]
  },
  {
   "cell_type": "code",
   "execution_count": 74,
   "metadata": {},
   "outputs": [
    {
     "data": {
      "text/plain": "(-0.5, 27.5, 27.5, -0.5)"
     },
     "execution_count": 74,
     "metadata": {},
     "output_type": "execute_result"
    },
    {
     "data": {
      "image/png": "[encoded data removed]",
      "image/svg+xml": "<?xml version=\"1.0\" encoding=\"utf-8\" standalone=\"no\"?>\n<!DOCTYPE svg PUBLIC \"-//W3C//DTD SVG 1.1//EN\"\n  \"http://www.w3.org/Graphics/SVG/1.1/DTD/svg11.dtd\">\n<!-- Created with matplotlib (https://matplotlib.org/) -->\n<svg height=\"318.763636pt\" version=\"1.1\" viewBox=\"0 0 684 318.763636\" width=\"684pt\" xmlns=\"http://www.w3.org/2000/svg\" xmlns:xlink=\"http://www.w3.org/1999/xlink\">\n <defs>\n  <style type=\"text/css\">\n*{stroke-linecap:butt;stroke-linejoin:round;}\n  </style>\n </defs>\n <g id=\"figure_1\">\n  <g id=\"patch_1\">\n   <path d=\"M 0 318.763636 \nL 684 318.763636 \nL 684 0 \nL 0 0 \nz\n\" style=\"fill:none;\"/>\n  </g>\n  <g id=\"axes_1\">\n   <g clip-path=\"url(#p14627c8b51)\">\n    <image height=\"305\" id=\"image1efc1f0534\" transform=\"scale(1 -1)translate(0 -305)\" width=\"305\" x=\"7.2\" xlink:href=\"data:image/png;base64,\niVBORw0KGgoAAAANSUhEUgAAATEAAAExCAYAAAAUZZVoAAAABHNCSVQICAgIfAhkiAAABG1JREFUeJzt3bFKQ1EQRVFH3v//8lgExTJBws2Oa9WvOCBuprlkdnc/SJmZ0xPeln+Hns/TAwD+QsSANBED0kQMSBMxIE3EgDQRA9JEDEgTMSBNxIC06/QAeCWPPOnyROk1uMSANBED0kQMSBMxIE3EgDQRA9JEDEgTMSBNxIA0EQPSRAxIEzEgTcSANBED0kQMSBMxIE3EgDQRA9JEDEgTMSBNxIA0EQPSRAxIEzEgTcSANBED0kQMSBMxIE3EgDQRA9JEDEgTMSDtOj2Am5k5PQGSXGJAmogBaSIGpIkYkCZiQJqIAWkiBqSJGJAmYkCaiAFpIgakiRiQJmJAmogBaSIGpIkYkCZiQJqIAWkiBqSJGJAmYkCaiAFpIgakiRiQJmJAmogBaSIGpIkYkCZiQJqIAWkiBqSJGJAmYkCaiAFpIgakiRiQJmJAmogBaSIGpIkYkCZiQJqIAWkiBqSJGJAmYkCaiAFpIgakiRiQJmJAmogBaSIGpIkYkCZiQNp1egBUzczd3+7uE5f8by4xIE3EgDQRA9JEDEgTMSBNxIA0EQPSRAxIEzEgTcSANBED0kQMSBMxIE3EgDQRA9JEDEgTMSBNxIA0EQPSRAxIEzEgTcSANBED0kQMSBMxIE3EgDQRA9JEDEgTMSBNxIA0EQPSRAxIEzEgTcSANBED0kQMSBMxIE3EgDQRA9JEDEgTMSBNxIA0EQPSrtMDoGp3T0/gwyUGxIkYkCZiQJqIAWkiBqSJGJAmYkCaiAFpIgakiRiQJmJAmogBaSIGpIkYkCZiQJqIAWkiBqSJGJAmYkCaiAFpIgakiRiQJmJAmogBaSIGpIkYkCZiQJqIAWkiBqSJGJAmYkDadXoAN7t797cz88Ql0OISA9JEDEgTMSBNxIA0EQPSRAxIEzEgTcSANBED0kQMSBMxIE3EgDQRA9JEDEgTMSBNxIA0EQPSRAxIEzEgTcSANBED0vzaEfzyyK9O8RpcYkCaiAFpIgakiRiQJmJAmogBaSIGpIkYkCZiQJqIAWmeHcEvM3P3t54ovQaXGJAmYkCaiAFpIgakiRiQJmJAmogBaSIGpIkYkCZiQJqIAWkiBqSJGJAmYkCaiAFpIgakiRiQJmJAmogBaSIGpIkYkCZiQJqIAWkiBqSJGJAmYkCaiAFpIgakiRiQJmJAmogBaSIGpIkYkCZiQJqIAWkiBqSJGJAmYkCaiAFpIgakiRiQJmJAmogBadfpAdzMzOkJkOQSA9JEDEgTMSBNxIA0EQPSRAxIEzEgTcSANBED0kQMSBMxIE3EgDQRA9JEDEgTMSBNxIA0EQPSRAxIEzEgTcSANBED0kQMSBMxIE3EgDQRA9JEDEgTMSBNxIA0EQPSRAxIEzEg7To94J3NzOkJPNEjf9/dfeKS/80lBqSJGJAmYkCaiAFpIgakiRiQJmJAmogBaSIGpIkYkObZET9KT2M86eKbSwxIEzEgTcSANBED0kQMSBMxIE3EgDQRA9JEDEgTMSDtC55gIXVSx2YmAAAAAElFTkSuQmCC\" y=\"-6.563636\"/>\n   </g>\n  </g>\n  <g id=\"axes_2\">\n   <g clip-path=\"url(#p6b63018223)\">\n    <image height=\"305\" id=\"image256b332122\" transform=\"scale(1 -1)translate(0 -305)\" width=\"305\" x=\"372.436364\" xlink:href=\"data:image/png;base64,\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\" y=\"-6.563636\"/>\n   </g>\n  </g>\n </g>\n <defs>\n  <clipPath id=\"p14627c8b51\">\n   <rect height=\"304.363636\" width=\"304.363636\" x=\"7.2\" y=\"7.2\"/>\n  </clipPath>\n  <clipPath id=\"p6b63018223\">\n   <rect height=\"304.363636\" width=\"304.363636\" x=\"372.436364\" y=\"7.2\"/>\n  </clipPath>\n </defs>\n</svg>\n",
      "text/plain": "<Figure size 864x432 with 2 Axes>"
     },
     "metadata": {
      "needs_background": "light"
     },
     "output_type": "display_data"
    }
   ],
   "source": [
    "# just for check\n",
    "element = 560\n",
    "plt.figure(figsize = (12,6))\n",
    "plt.subplot(121)\n",
    "plt.imshow(dilated_array[element,:].reshape(28,28), cmap = plt.cm.gray_r)\n",
    "plt.axis('off')\n",
    "plt.subplot(122)\n",
    "plt.imshow(train_input[element,:].reshape(28,28), cmap = plt.cm.gray_r)\n",
    "plt.axis('off')"
   ]
  },
  {
   "cell_type": "code",
   "execution_count": 66,
   "metadata": {},
   "outputs": [],
   "source": [
    "# now the rewrite to normalized dilated form\n",
    "dilated_array = np.zeros((train_input.shape), dtype = np.int8)\n",
    "for idx,pict in enumerate(train_input):\n",
    "    reshaped_pict = pict.reshape(28,28)\n",
    "    bin_picture = np.zeros((28,28), dtype = np.int8)\n",
    "    bin_picture[reshaped_pict > 0] = 255\n",
    "    open_picture = ndimage.binary_opening(bin_picture)\n",
    "    eroded_picture = ndimage.binary_erosion(bin_picture)\n",
    "    prop_picture = ndimage.binary_propagation(eroded_picture, mask=bin_picture)\n",
    "    dilated_array[idx] = prop_picture.reshape(784,)\n"
   ]
  },
  {
   "cell_type": "code",
   "execution_count": 77,
   "metadata": {},
   "outputs": [],
   "source": [
    "# save normalized input\n",
    "np.save('things_we_touch/data/dilated_input.npy', dilated_array)"
   ]
  }
 ]
}