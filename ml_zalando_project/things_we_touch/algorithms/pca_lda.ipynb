{
 "nbformat": 4,
 "nbformat_minor": 2,
 "metadata": {
  "language_info": {
   "name": "python",
   "codemirror_mode": {
    "name": "ipython",
    "version": 3
   },
   "version": "3.6.8"
  },
  "orig_nbformat": 2,
  "file_extension": ".py",
  "mimetype": "text/x-python",
  "name": "python",
  "npconvert_exporter": "python",
  "pygments_lexer": "ipython3",
  "version": 3
 },
 "cells": [
  {
   "cell_type": "code",
   "execution_count": 11,
   "metadata": {},
   "outputs": [],
   "source": [
    "# import the compulsory\n",
    "import numpy as np\n",
    "import pandas as pd\n",
    "import matplotlib.pyplot as plt\n",
    "import os\n",
    "from scipy import ndimage, linalg\n",
    "%matplotlib inline"
   ]
  },
  {
   "cell_type": "code",
   "execution_count": 4,
   "metadata": {},
   "outputs": [],
   "source": [
    "train_input = np.load(os.path.abspath(os.path.curdir) + '/ml_zalando_project/things_we_touch/data/input_train.npy')\n",
    "train_all = np.load(os.path.abspath(os.path.curdir) + '/ml_zalando_project/things_we_touch/data/OG_files/fashion_train.npy')\n",
    "train_labels = np.load(os.path.abspath(os.path.curdir) + '/ml_zalando_project/things_we_touch/data/labels_train.npy')\n",
    "train_shaped = np.load(os.path.abspath(os.path.curdir) + '/ml_zalando_project/things_we_touch/data/dilated_input.npy')"
   ]
  },
  {
   "cell_type": "code",
   "execution_count": 24,
   "metadata": {},
   "outputs": [],
   "source": [
    "def pca(input_file):\n",
    "    mean_vector = input_file.mean(axis = 0)\n",
    "    cov_matrix = np.cov(input_file - mean_vector)\n",
    "    return linalg.eigh(cov_matrix)"
   ]
  },
  {
   "cell_type": "code",
   "execution_count": 25,
   "metadata": {},
   "outputs": [],
   "source": [
    "w, v = pca(train_input)"
   ]
  },
  {
   "cell_type": "code",
   "execution_count": 28,
   "metadata": {},
   "outputs": [
    {
     "data": {
      "text/plain": "-2.6114392930557447e-09"
     },
     "execution_count": 28,
     "metadata": {},
     "output_type": "execute_result"
    }
   ],
   "source": [
    "w.min()"
   ]
  },
  {
   "cell_type": "code",
   "execution_count": null,
   "metadata": {},
   "outputs": [],
   "source": []
  }
 ]
}