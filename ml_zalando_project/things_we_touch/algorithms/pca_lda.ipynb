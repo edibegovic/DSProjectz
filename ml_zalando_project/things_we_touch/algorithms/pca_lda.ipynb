{
 "nbformat": 4,
 "nbformat_minor": 2,
 "metadata": {
  "language_info": {
   "name": "python",
   "codemirror_mode": {
    "name": "ipython",
    "version": 3
   },
   "version": "3.6.8"
  },
  "orig_nbformat": 2,
  "file_extension": ".py",
  "mimetype": "text/x-python",
  "name": "python",
  "npconvert_exporter": "python",
  "pygments_lexer": "ipython3",
  "version": 3
 },
 "cells": [
  {
   "cell_type": "code",
   "execution_count": 3,
   "metadata": {},
   "outputs": [],
   "source": [
    "# import the compulsory\n",
    "import numpy as np\n",
    "import pandas as pd\n",
    "import matplotlib.pyplot as plt\n",
    "import os\n",
    "from scipy import ndimage, linalg\n",
    "%matplotlib inline"
   ]
  },
  {
   "cell_type": "code",
   "execution_count": 4,
   "metadata": {},
   "outputs": [],
   "source": [
    "train_input = np.load(os.path.abspath(os.path.curdir) + '/ml_zalando_project/things_we_touch/data/input_train.npy')\n",
    "train_all = np.load(os.path.abspath(os.path.curdir) + '/ml_zalando_project/things_we_touch/data/OG_files/fashion_train.npy')\n",
    "train_labels = np.load(os.path.abspath(os.path.curdir) + '/ml_zalando_project/things_we_touch/data/labels_train.npy')\n",
    "train_shaped = np.load(os.path.abspath(os.path.curdir) + '/ml_zalando_project/things_we_touch/data/dilated_input.npy')"
   ]
  },
  {
   "cell_type": "code",
   "execution_count": 3,
   "metadata": {},
   "outputs": [],
   "source": [
    "def pca(input_array):\n",
    "    mean_vector = input_array.mean(axis = 0)\n",
    "    cov_matrix = np.cov(input_array - mean_vector)\n",
    "    return linalg.eigh(cov_matrix)"
   ]
  },
  {
   "cell_type": "code",
   "execution_count": 25,
   "metadata": {},
   "outputs": [],
   "source": [
    "w, v = pca(train_input)"
   ]
  },
  {
   "cell_type": "code",
   "execution_count": 28,
   "metadata": {},
   "outputs": [
    {
     "data": {
      "text/plain": "-2.6114392930557447e-09"
     },
     "execution_count": 28,
     "metadata": {},
     "output_type": "execute_result"
    }
   ],
   "source": [
    "w.min()"
   ]
  },
  {
   "cell_type": "code",
   "execution_count": 41,
   "metadata": {},
   "outputs": [],
   "source": [
    "def lda(input_array, label_array):\n",
    "    # step one compute d dimensional mean vectors\n",
    "    _mean_vectors = []\n",
    "    for i in range(5):\n",
    "        current_mean_vector = np.mean(input_array[label_array == i], axis = 0)\n",
    "        _mean_vectors.append(current_mean_vector)\n",
    "    \n",
    "    # compute in-between-class and within-class scatter matrix\n",
    "    s_w = np.zeros((784,784))\n",
    "    for cl, mv in zip(range(5), _mean_vectors):\n",
    "        class_sc_matrix = np.zeros((784,784)) # for each class\n",
    "        for row in input_array[label_array == cl]:\n",
    "            row, mv = row.reshape(784,1), mv.reshape(784,1)\n",
    "            class_sc_matrix += (row - mv).dot((row - mv).T)\n",
    "        s_w += class_sc_matrix # we have s_w\n",
    "\n",
    "    s_b = np.zeros((784,784))\n",
    "    overall_mean = np.mean(input_array, axis = 0)\n",
    "    for i, _mean_vector in enumerate(_mean_vectors):\n",
    "        n = input_array[label_array == i, :].shape[0]\n",
    "        mean_vec = _mean_vector.reshape(784,1)\n",
    "        overall_mean = overall_mean.reshape(784,1)\n",
    "        s_b += n * (mean_vec - overall_mean).dot((mean_vec - overall_mean).T)\n",
    "    # compute eigenvectors and eigenvalues\n",
    "    eig_vals, eig_vecs = np.linalg.eig(np.linalg.inv(s_w).dot(s_b))\n",
    "    eig_vals = eig_vals.real\n",
    "    eig_vecs = eig_vecs.real\n",
    "    #print(len(eig_vecs[0]))\n",
    "    eig_vals = eig_vals / np.sum(eig_vals)\n",
    "\n",
    "    return eig_vals, eig_vecs\n"
   ]
  },
  {
   "cell_type": "code",
   "execution_count": 20,
   "metadata": {},
   "outputs": [
    {
     "data": {
      "text/plain": "<matplotlib.image.AxesImage at 0x7f46fcdc44a8>"
     },
     "execution_count": 20,
     "metadata": {},
     "output_type": "execute_result"
    },
    {
     "data": {
      "image/png": "[encoded data removed]",
      "image/svg+xml": "<?xml version=\"1.0\" encoding=\"utf-8\" standalone=\"no\"?>\n<!DOCTYPE svg PUBLIC \"-//W3C//DTD SVG 1.1//EN\"\n  \"http://www.w3.org/Graphics/SVG/1.1/DTD/svg11.dtd\">\n<!-- Created with matplotlib (https://matplotlib.org/) -->\n<svg height=\"248.518125pt\" version=\"1.1\" viewBox=\"0 0 251.565 248.518125\" width=\"251.565pt\" xmlns=\"http://www.w3.org/2000/svg\" xmlns:xlink=\"http://www.w3.org/1999/xlink\">\n <defs>\n  <style type=\"text/css\">\n*{stroke-linecap:butt;stroke-linejoin:round;}\n  </style>\n </defs>\n <g id=\"figure_1\">\n  <g id=\"patch_1\">\n   <path d=\"M 0 248.518125 \nL 251.565 248.518125 \nL 251.565 0 \nL 0 0 \nz\n\" style=\"fill:none;\"/>\n  </g>\n  <g id=\"axes_1\">\n   <g id=\"patch_2\">\n    <path d=\"M 26.925 224.64 \nL 244.365 224.64 \nL 244.365 7.2 \nL 26.925 7.2 \nz\n\" style=\"fill:#ffffff;\"/>\n   </g>\n   <g clip-path=\"url(#p8af3d4eeea)\">\n    <image height=\"218\" id=\"image507c40fb6b\" transform=\"scale(1 -1)translate(0 -218)\" width=\"218\" x=\"26.925\" xlink:href=\"data:image/png;base64,\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\" y=\"-6.64\"/>\n   </g>\n   <g id=\"matplotlib.axis_1\">\n    <g id=\"xtick_1\">\n     <g id=\"line2d_1\">\n      <defs>\n       <path d=\"M 0 0 \nL 0 3.5 \n\" id=\"med82d0c04a\" style=\"stroke:#000000;stroke-width:0.8;\"/>\n      </defs>\n      <g>\n       <use style=\"stroke:#000000;stroke-width:0.8;\" x=\"30.807857\" xlink:href=\"#med82d0c04a\" y=\"224.64\"/>\n      </g>\n     </g>\n     <g id=\"text_1\">\n      <!-- 0 -->\n      <defs>\n       <path d=\"M 31.78125 66.40625 \nQ 24.171875 66.40625 20.328125 58.90625 \nQ 16.5 51.421875 16.5 36.375 \nQ 16.5 21.390625 20.328125 13.890625 \nQ 24.171875 6.390625 31.78125 6.390625 \nQ 39.453125 6.390625 43.28125 13.890625 \nQ 47.125 21.390625 47.125 36.375 \nQ 47.125 51.421875 43.28125 58.90625 \nQ 39.453125 66.40625 31.78125 66.40625 \nz\nM 31.78125 74.21875 \nQ 44.046875 74.21875 50.515625 64.515625 \nQ 56.984375 54.828125 56.984375 36.375 \nQ 56.984375 17.96875 50.515625 8.265625 \nQ 44.046875 -1.421875 31.78125 -1.421875 \nQ 19.53125 -1.421875 13.0625 8.265625 \nQ 6.59375 17.96875 6.59375 36.375 \nQ 6.59375 54.828125 13.0625 64.515625 \nQ 19.53125 74.21875 31.78125 74.21875 \nz\n\" id=\"DejaVuSans-48\"/>\n      </defs>\n      <g transform=\"translate(27.626607 239.238437)scale(0.1 -0.1)\">\n       <use xlink:href=\"#DejaVuSans-48\"/>\n      </g>\n     </g>\n    </g>\n    <g id=\"xtick_2\">\n     <g id=\"line2d_2\">\n      <g>\n       <use style=\"stroke:#000000;stroke-width:0.8;\" x=\"69.636429\" xlink:href=\"#med82d0c04a\" y=\"224.64\"/>\n      </g>\n     </g>\n     <g id=\"text_2\">\n      <!-- 5 -->\n      <defs>\n       <path d=\"M 10.796875 72.90625 \nL 49.515625 72.90625 \nL 49.515625 64.59375 \nL 19.828125 64.59375 \nL 19.828125 46.734375 \nQ 21.96875 47.46875 24.109375 47.828125 \nQ 26.265625 48.1875 28.421875 48.1875 \nQ 40.625 48.1875 47.75 41.5 \nQ 54.890625 34.8125 54.890625 23.390625 \nQ 54.890625 11.625 47.5625 5.09375 \nQ 40.234375 -1.421875 26.90625 -1.421875 \nQ 22.3125 -1.421875 17.546875 -0.640625 \nQ 12.796875 0.140625 7.71875 1.703125 \nL 7.71875 11.625 \nQ 12.109375 9.234375 16.796875 8.0625 \nQ 21.484375 6.890625 26.703125 6.890625 \nQ 35.15625 6.890625 40.078125 11.328125 \nQ 45.015625 15.765625 45.015625 23.390625 \nQ 45.015625 31 40.078125 35.4375 \nQ 35.15625 39.890625 26.703125 39.890625 \nQ 22.75 39.890625 18.8125 39.015625 \nQ 14.890625 38.140625 10.796875 36.28125 \nz\n\" id=\"DejaVuSans-53\"/>\n      </defs>\n      <g transform=\"translate(66.455179 239.238437)scale(0.1 -0.1)\">\n       <use xlink:href=\"#DejaVuSans-53\"/>\n      </g>\n     </g>\n    </g>\n    <g id=\"xtick_3\">\n     <g id=\"line2d_3\">\n      <g>\n       <use style=\"stroke:#000000;stroke-width:0.8;\" x=\"108.465\" xlink:href=\"#med82d0c04a\" y=\"224.64\"/>\n      </g>\n     </g>\n     <g id=\"text_3\">\n      <!-- 10 -->\n      <defs>\n       <path d=\"M 12.40625 8.296875 \nL 28.515625 8.296875 \nL 28.515625 63.921875 \nL 10.984375 60.40625 \nL 10.984375 69.390625 \nL 28.421875 72.90625 \nL 38.28125 72.90625 \nL 38.28125 8.296875 \nL 54.390625 8.296875 \nL 54.390625 0 \nL 12.40625 0 \nz\n\" id=\"DejaVuSans-49\"/>\n      </defs>\n      <g transform=\"translate(102.1025 239.238437)scale(0.1 -0.1)\">\n       <use xlink:href=\"#DejaVuSans-49\"/>\n       <use x=\"63.623047\" xlink:href=\"#DejaVuSans-48\"/>\n      </g>\n     </g>\n    </g>\n    <g id=\"xtick_4\">\n     <g id=\"line2d_4\">\n      <g>\n       <use style=\"stroke:#000000;stroke-width:0.8;\" x=\"147.293571\" xlink:href=\"#med82d0c04a\" y=\"224.64\"/>\n      </g>\n     </g>\n     <g id=\"text_4\">\n      <!-- 15 -->\n      <g transform=\"translate(140.931071 239.238437)scale(0.1 -0.1)\">\n       <use xlink:href=\"#DejaVuSans-49\"/>\n       <use x=\"63.623047\" xlink:href=\"#DejaVuSans-53\"/>\n      </g>\n     </g>\n    </g>\n    <g id=\"xtick_5\">\n     <g id=\"line2d_5\">\n      <g>\n       <use style=\"stroke:#000000;stroke-width:0.8;\" x=\"186.122143\" xlink:href=\"#med82d0c04a\" y=\"224.64\"/>\n      </g>\n     </g>\n     <g id=\"text_5\">\n      <!-- 20 -->\n      <defs>\n       <path d=\"M 19.1875 8.296875 \nL 53.609375 8.296875 \nL 53.609375 0 \nL 7.328125 0 \nL 7.328125 8.296875 \nQ 12.9375 14.109375 22.625 23.890625 \nQ 32.328125 33.6875 34.8125 36.53125 \nQ 39.546875 41.84375 41.421875 45.53125 \nQ 43.3125 49.21875 43.3125 52.78125 \nQ 43.3125 58.59375 39.234375 62.25 \nQ 35.15625 65.921875 28.609375 65.921875 \nQ 23.96875 65.921875 18.8125 64.3125 \nQ 13.671875 62.703125 7.8125 59.421875 \nL 7.8125 69.390625 \nQ 13.765625 71.78125 18.9375 73 \nQ 24.125 74.21875 28.421875 74.21875 \nQ 39.75 74.21875 46.484375 68.546875 \nQ 53.21875 62.890625 53.21875 53.421875 \nQ 53.21875 48.921875 51.53125 44.890625 \nQ 49.859375 40.875 45.40625 35.40625 \nQ 44.1875 33.984375 37.640625 27.21875 \nQ 31.109375 20.453125 19.1875 8.296875 \nz\n\" id=\"DejaVuSans-50\"/>\n      </defs>\n      <g transform=\"translate(179.759643 239.238437)scale(0.1 -0.1)\">\n       <use xlink:href=\"#DejaVuSans-50\"/>\n       <use x=\"63.623047\" xlink:href=\"#DejaVuSans-48\"/>\n      </g>\n     </g>\n    </g>\n    <g id=\"xtick_6\">\n     <g id=\"line2d_6\">\n      <g>\n       <use style=\"stroke:#000000;stroke-width:0.8;\" x=\"224.950714\" xlink:href=\"#med82d0c04a\" y=\"224.64\"/>\n      </g>\n     </g>\n     <g id=\"text_6\">\n      <!-- 25 -->\n      <g transform=\"translate(218.588214 239.238437)scale(0.1 -0.1)\">\n       <use xlink:href=\"#DejaVuSans-50\"/>\n       <use x=\"63.623047\" xlink:href=\"#DejaVuSans-53\"/>\n      </g>\n     </g>\n    </g>\n   </g>\n   <g id=\"matplotlib.axis_2\">\n    <g id=\"ytick_1\">\n     <g id=\"line2d_7\">\n      <defs>\n       <path d=\"M 0 0 \nL -3.5 0 \n\" id=\"m6c3cb8f29f\" style=\"stroke:#000000;stroke-width:0.8;\"/>\n      </defs>\n      <g>\n       <use style=\"stroke:#000000;stroke-width:0.8;\" x=\"26.925\" xlink:href=\"#m6c3cb8f29f\" y=\"11.082857\"/>\n      </g>\n     </g>\n     <g id=\"text_7\">\n      <!-- 0 -->\n      <g transform=\"translate(13.5625 14.882076)scale(0.1 -0.1)\">\n       <use xlink:href=\"#DejaVuSans-48\"/>\n      </g>\n     </g>\n    </g>\n    <g id=\"ytick_2\">\n     <g id=\"line2d_8\">\n      <g>\n       <use style=\"stroke:#000000;stroke-width:0.8;\" x=\"26.925\" xlink:href=\"#m6c3cb8f29f\" y=\"49.911429\"/>\n      </g>\n     </g>\n     <g id=\"text_8\">\n      <!-- 5 -->\n      <g transform=\"translate(13.5625 53.710647)scale(0.1 -0.1)\">\n       <use xlink:href=\"#DejaVuSans-53\"/>\n      </g>\n     </g>\n    </g>\n    <g id=\"ytick_3\">\n     <g id=\"line2d_9\">\n      <g>\n       <use style=\"stroke:#000000;stroke-width:0.8;\" x=\"26.925\" xlink:href=\"#m6c3cb8f29f\" y=\"88.74\"/>\n      </g>\n     </g>\n     <g id=\"text_9\">\n      <!-- 10 -->\n      <g transform=\"translate(7.2 92.539219)scale(0.1 -0.1)\">\n       <use xlink:href=\"#DejaVuSans-49\"/>\n       <use x=\"63.623047\" xlink:href=\"#DejaVuSans-48\"/>\n      </g>\n     </g>\n    </g>\n    <g id=\"ytick_4\">\n     <g id=\"line2d_10\">\n      <g>\n       <use style=\"stroke:#000000;stroke-width:0.8;\" x=\"26.925\" xlink:href=\"#m6c3cb8f29f\" y=\"127.568571\"/>\n      </g>\n     </g>\n     <g id=\"text_10\">\n      <!-- 15 -->\n      <g transform=\"translate(7.2 131.36779)scale(0.1 -0.1)\">\n       <use xlink:href=\"#DejaVuSans-49\"/>\n       <use x=\"63.623047\" xlink:href=\"#DejaVuSans-53\"/>\n      </g>\n     </g>\n    </g>\n    <g id=\"ytick_5\">\n     <g id=\"line2d_11\">\n      <g>\n       <use style=\"stroke:#000000;stroke-width:0.8;\" x=\"26.925\" xlink:href=\"#m6c3cb8f29f\" y=\"166.397143\"/>\n      </g>\n     </g>\n     <g id=\"text_11\">\n      <!-- 20 -->\n      <g transform=\"translate(7.2 170.196362)scale(0.1 -0.1)\">\n       <use xlink:href=\"#DejaVuSans-50\"/>\n       <use x=\"63.623047\" xlink:href=\"#DejaVuSans-48\"/>\n      </g>\n     </g>\n    </g>\n    <g id=\"ytick_6\">\n     <g id=\"line2d_12\">\n      <g>\n       <use style=\"stroke:#000000;stroke-width:0.8;\" x=\"26.925\" xlink:href=\"#m6c3cb8f29f\" y=\"205.225714\"/>\n      </g>\n     </g>\n     <g id=\"text_12\">\n      <!-- 25 -->\n      <g transform=\"translate(7.2 209.024933)scale(0.1 -0.1)\">\n       <use xlink:href=\"#DejaVuSans-50\"/>\n       <use x=\"63.623047\" xlink:href=\"#DejaVuSans-53\"/>\n      </g>\n     </g>\n    </g>\n   </g>\n   <g id=\"patch_3\">\n    <path d=\"M 26.925 224.64 \nL 26.925 7.2 \n\" style=\"fill:none;stroke:#000000;stroke-linecap:square;stroke-linejoin:miter;stroke-width:0.8;\"/>\n   </g>\n   <g id=\"patch_4\">\n    <path d=\"M 244.365 224.64 \nL 244.365 7.2 \n\" style=\"fill:none;stroke:#000000;stroke-linecap:square;stroke-linejoin:miter;stroke-width:0.8;\"/>\n   </g>\n   <g id=\"patch_5\">\n    <path d=\"M 26.925 224.64 \nL 244.365 224.64 \n\" style=\"fill:none;stroke:#000000;stroke-linecap:square;stroke-linejoin:miter;stroke-width:0.8;\"/>\n   </g>\n   <g id=\"patch_6\">\n    <path d=\"M 26.925 7.2 \nL 244.365 7.2 \n\" style=\"fill:none;stroke:#000000;stroke-linecap:square;stroke-linejoin:miter;stroke-width:0.8;\"/>\n   </g>\n  </g>\n </g>\n <defs>\n  <clipPath id=\"p8af3d4eeea\">\n   <rect height=\"217.44\" width=\"217.44\" x=\"26.925\" y=\"7.2\"/>\n  </clipPath>\n </defs>\n</svg>\n",
      "text/plain": "<Figure size 432x288 with 1 Axes>"
     },
     "metadata": {
      "needs_background": "light"
     },
     "output_type": "display_data"
    }
   ],
   "source": [
    "plt.imshow(np.mean(train_shaped[train_labels == 3], axis = 0).reshape(28,28), cmap=plt.cm.gray_r)"
   ]
  },
  {
   "cell_type": "code",
   "execution_count": 6,
   "metadata": {},
   "outputs": [
    {
     "data": {
      "text/plain": "(784,)"
     },
     "execution_count": 6,
     "metadata": {},
     "output_type": "execute_result"
    }
   ],
   "source": [
    "np.mean(train_input[train_labels == 3], axis = 0).shape"
   ]
  },
  {
   "cell_type": "code",
   "execution_count": 42,
   "metadata": {},
   "outputs": [],
   "source": [
    "eig_vals, eig_vectors = lda(train_input, train_labels)"
   ]
  },
  {
   "cell_type": "code",
   "execution_count": 48,
   "metadata": {},
   "outputs": [
    {
     "data": {
      "text/plain": "(1, 784)"
     },
     "execution_count": 48,
     "metadata": {},
     "output_type": "execute_result"
    }
   ],
   "source": [
    "eig_vectors[eig_vals == eig_vals.max()].shape"
   ]
  },
  {
   "cell_type": "code",
   "execution_count": null,
   "metadata": {},
   "outputs": [],
   "source": [
    "2"
   ]
  }
 ]
}